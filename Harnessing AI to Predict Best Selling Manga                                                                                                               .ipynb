{
 "cells": [
  {
   "cell_type": "code",
   "execution_count": 62,
   "id": "328a6292",
   "metadata": {},
   "outputs": [
    {
     "data": {
      "text/html": [
       "<div>\n",
       "<style scoped>\n",
       "    .dataframe tbody tr th:only-of-type {\n",
       "        vertical-align: middle;\n",
       "    }\n",
       "\n",
       "    .dataframe tbody tr th {\n",
       "        vertical-align: top;\n",
       "    }\n",
       "\n",
       "    .dataframe thead th {\n",
       "        text-align: right;\n",
       "    }\n",
       "</style>\n",
       "<table border=\"1\" class=\"dataframe\">\n",
       "  <thead>\n",
       "    <tr style=\"text-align: right;\">\n",
       "      <th></th>\n",
       "      <th>Manga series</th>\n",
       "      <th>Author(s)</th>\n",
       "      <th>Publisher</th>\n",
       "      <th>Demographic</th>\n",
       "      <th>No. of collected volumes</th>\n",
       "      <th>Serialized</th>\n",
       "      <th>Approximate sales in million(s)</th>\n",
       "      <th>Average sales per volume in million(s)</th>\n",
       "    </tr>\n",
       "  </thead>\n",
       "  <tbody>\n",
       "    <tr>\n",
       "      <th>0</th>\n",
       "      <td>One Piece</td>\n",
       "      <td>Eiichiro Oda</td>\n",
       "      <td>Shueisha</td>\n",
       "      <td>Shōnen</td>\n",
       "      <td>104</td>\n",
       "      <td>1997–present</td>\n",
       "      <td>516.6</td>\n",
       "      <td>4.97</td>\n",
       "    </tr>\n",
       "    <tr>\n",
       "      <th>1</th>\n",
       "      <td>Golgo 13</td>\n",
       "      <td>Takao Saito, Saito Production</td>\n",
       "      <td>Shogakukan</td>\n",
       "      <td>Seinen</td>\n",
       "      <td>207</td>\n",
       "      <td>1968–present</td>\n",
       "      <td>300.0</td>\n",
       "      <td>1.45</td>\n",
       "    </tr>\n",
       "    <tr>\n",
       "      <th>2</th>\n",
       "      <td>Case Closed / Detective Conan</td>\n",
       "      <td>Gosho Aoyama</td>\n",
       "      <td>Shogakukan</td>\n",
       "      <td>Shōnen</td>\n",
       "      <td>102</td>\n",
       "      <td>1994–present</td>\n",
       "      <td>270.0</td>\n",
       "      <td>2.65</td>\n",
       "    </tr>\n",
       "    <tr>\n",
       "      <th>3</th>\n",
       "      <td>Dragon Ball</td>\n",
       "      <td>Akira Toriyama</td>\n",
       "      <td>Shueisha</td>\n",
       "      <td>Shōnen</td>\n",
       "      <td>42</td>\n",
       "      <td>1984–1995</td>\n",
       "      <td>260.0</td>\n",
       "      <td>6.19</td>\n",
       "    </tr>\n",
       "    <tr>\n",
       "      <th>4</th>\n",
       "      <td>Doraemon</td>\n",
       "      <td>Fujiko F. Fujio</td>\n",
       "      <td>Shogakukan</td>\n",
       "      <td>Children</td>\n",
       "      <td>45</td>\n",
       "      <td>1969–1996</td>\n",
       "      <td>250.0</td>\n",
       "      <td>4.71</td>\n",
       "    </tr>\n",
       "    <tr>\n",
       "      <th>...</th>\n",
       "      <td>...</td>\n",
       "      <td>...</td>\n",
       "      <td>...</td>\n",
       "      <td>...</td>\n",
       "      <td>...</td>\n",
       "      <td>...</td>\n",
       "      <td>...</td>\n",
       "      <td>...</td>\n",
       "    </tr>\n",
       "    <tr>\n",
       "      <th>182</th>\n",
       "      <td>Sukeban Deka</td>\n",
       "      <td>Shinji Wada</td>\n",
       "      <td>Hakusensha</td>\n",
       "      <td>Shōjo</td>\n",
       "      <td>22</td>\n",
       "      <td>1976–1982</td>\n",
       "      <td>20.0</td>\n",
       "      <td>0.90</td>\n",
       "    </tr>\n",
       "    <tr>\n",
       "      <th>183</th>\n",
       "      <td>Swan</td>\n",
       "      <td>Kyoko Ariyoshi</td>\n",
       "      <td>Shueisha</td>\n",
       "      <td>Shōjo</td>\n",
       "      <td>21</td>\n",
       "      <td>1976–1981</td>\n",
       "      <td>20.0</td>\n",
       "      <td>0.95</td>\n",
       "    </tr>\n",
       "    <tr>\n",
       "      <th>184</th>\n",
       "      <td>The Tale of Genji</td>\n",
       "      <td>Waki Yamato</td>\n",
       "      <td>Kodansha</td>\n",
       "      <td>Shōjo</td>\n",
       "      <td>13</td>\n",
       "      <td>1980–1993</td>\n",
       "      <td>20.0</td>\n",
       "      <td>1.53</td>\n",
       "    </tr>\n",
       "    <tr>\n",
       "      <th>185</th>\n",
       "      <td>Tokyo Daigaku Monogatari</td>\n",
       "      <td>Tatsuya Egawa</td>\n",
       "      <td>Shogakukan</td>\n",
       "      <td>Seinen</td>\n",
       "      <td>34</td>\n",
       "      <td>1992–2001</td>\n",
       "      <td>20.0</td>\n",
       "      <td>0.58</td>\n",
       "    </tr>\n",
       "    <tr>\n",
       "      <th>186</th>\n",
       "      <td>Weed</td>\n",
       "      <td>Yoshihiro Takahashi</td>\n",
       "      <td>Nihon Bungeisha</td>\n",
       "      <td>Seinen</td>\n",
       "      <td>60</td>\n",
       "      <td>1999–2009</td>\n",
       "      <td>20.0</td>\n",
       "      <td>0.33</td>\n",
       "    </tr>\n",
       "  </tbody>\n",
       "</table>\n",
       "<p>187 rows × 8 columns</p>\n",
       "</div>"
      ],
      "text/plain": [
       "                      Manga series                      Author(s)  \\\n",
       "0                        One Piece                   Eiichiro Oda   \n",
       "1                         Golgo 13  Takao Saito, Saito Production   \n",
       "2    Case Closed / Detective Conan                   Gosho Aoyama   \n",
       "3                      Dragon Ball                 Akira Toriyama   \n",
       "4                         Doraemon                Fujiko F. Fujio   \n",
       "..                             ...                            ...   \n",
       "182                   Sukeban Deka                    Shinji Wada   \n",
       "183                           Swan                 Kyoko Ariyoshi   \n",
       "184              The Tale of Genji                    Waki Yamato   \n",
       "185       Tokyo Daigaku Monogatari                  Tatsuya Egawa   \n",
       "186                           Weed            Yoshihiro Takahashi   \n",
       "\n",
       "           Publisher Demographic  No. of collected volumes    Serialized  \\\n",
       "0           Shueisha      Shōnen                       104  1997–present   \n",
       "1         Shogakukan      Seinen                       207  1968–present   \n",
       "2         Shogakukan      Shōnen                       102  1994–present   \n",
       "3           Shueisha      Shōnen                        42     1984–1995   \n",
       "4         Shogakukan    Children                        45     1969–1996   \n",
       "..               ...         ...                       ...           ...   \n",
       "182       Hakusensha       Shōjo                        22     1976–1982   \n",
       "183         Shueisha       Shōjo                        21     1976–1981   \n",
       "184         Kodansha       Shōjo                        13     1980–1993   \n",
       "185       Shogakukan      Seinen                        34     1992–2001   \n",
       "186  Nihon Bungeisha      Seinen                        60     1999–2009   \n",
       "\n",
       "     Approximate sales in million(s)  Average sales per volume in million(s)  \n",
       "0                              516.6                                    4.97  \n",
       "1                              300.0                                    1.45  \n",
       "2                              270.0                                    2.65  \n",
       "3                              260.0                                    6.19  \n",
       "4                              250.0                                    4.71  \n",
       "..                               ...                                     ...  \n",
       "182                             20.0                                    0.90  \n",
       "183                             20.0                                    0.95  \n",
       "184                             20.0                                    1.53  \n",
       "185                             20.0                                    0.58  \n",
       "186                             20.0                                    0.33  \n",
       "\n",
       "[187 rows x 8 columns]"
      ]
     },
     "execution_count": 62,
     "metadata": {},
     "output_type": "execute_result"
    }
   ],
   "source": [
    "import pandas as pd \n",
    "manga = pd.read_csv(\"best-selling-manga.csv\")\n",
    "manga"
   ]
  },
  {
   "cell_type": "code",
   "execution_count": 63,
   "id": "eb81e2ea",
   "metadata": {},
   "outputs": [
    {
     "data": {
      "text/plain": [
       "Manga series                              False\n",
       "Author(s)                                 False\n",
       "Publisher                                 False\n",
       "Demographic                               False\n",
       "No. of collected volumes                  False\n",
       "Serialized                                False\n",
       "Approximate sales in million(s)           False\n",
       "Average sales per volume in million(s)    False\n",
       "dtype: bool"
      ]
     },
     "execution_count": 63,
     "metadata": {},
     "output_type": "execute_result"
    }
   ],
   "source": [
    "manga.isnull().any()"
   ]
  },
  {
   "cell_type": "code",
   "execution_count": 64,
   "id": "2333abc3",
   "metadata": {},
   "outputs": [
    {
     "data": {
      "text/plain": [
       "Manga series                              0\n",
       "Author(s)                                 0\n",
       "Publisher                                 0\n",
       "Demographic                               0\n",
       "No. of collected volumes                  0\n",
       "Serialized                                0\n",
       "Approximate sales in million(s)           0\n",
       "Average sales per volume in million(s)    0\n",
       "dtype: int64"
      ]
     },
     "execution_count": 64,
     "metadata": {},
     "output_type": "execute_result"
    }
   ],
   "source": [
    "manga.isnull().sum()"
   ]
  },
  {
   "cell_type": "code",
   "execution_count": 68,
   "id": "9c8b6d97",
   "metadata": {},
   "outputs": [
    {
     "data": {
      "text/plain": [
       "187"
      ]
     },
     "execution_count": 68,
     "metadata": {},
     "output_type": "execute_result"
    }
   ],
   "source": [
    "manga[\"Manga series\"].nunique()"
   ]
  },
  {
   "cell_type": "code",
   "execution_count": 7,
   "id": "6f809b21",
   "metadata": {},
   "outputs": [
    {
     "data": {
      "text/plain": [
       "Manga series                              187\n",
       "Author(s)                                 187\n",
       "Publisher                                 187\n",
       "Demographic                               187\n",
       "No. of collected volumes                  187\n",
       "Serialized                                187\n",
       "Approximate sales in million(s)           187\n",
       "Average sales per volume in million(s)    187\n",
       "dtype: int64"
      ]
     },
     "execution_count": 7,
     "metadata": {},
     "output_type": "execute_result"
    }
   ],
   "source": [
    "manga.count()"
   ]
  },
  {
   "cell_type": "code",
   "execution_count": 8,
   "id": "3664011e",
   "metadata": {},
   "outputs": [
    {
     "data": {
      "text/html": [
       "<div>\n",
       "<style scoped>\n",
       "    .dataframe tbody tr th:only-of-type {\n",
       "        vertical-align: middle;\n",
       "    }\n",
       "\n",
       "    .dataframe tbody tr th {\n",
       "        vertical-align: top;\n",
       "    }\n",
       "\n",
       "    .dataframe thead th {\n",
       "        text-align: right;\n",
       "    }\n",
       "</style>\n",
       "<table border=\"1\" class=\"dataframe\">\n",
       "  <thead>\n",
       "    <tr style=\"text-align: right;\">\n",
       "      <th></th>\n",
       "      <th>No. of collected volumes</th>\n",
       "      <th>Approximate sales in million(s)</th>\n",
       "      <th>Average sales per volume in million(s)</th>\n",
       "    </tr>\n",
       "  </thead>\n",
       "  <tbody>\n",
       "    <tr>\n",
       "      <th>count</th>\n",
       "      <td>187.000000</td>\n",
       "      <td>187.000000</td>\n",
       "      <td>187.000000</td>\n",
       "    </tr>\n",
       "    <tr>\n",
       "      <th>mean</th>\n",
       "      <td>46.048128</td>\n",
       "      <td>50.764332</td>\n",
       "      <td>1.377380</td>\n",
       "    </tr>\n",
       "    <tr>\n",
       "      <th>std</th>\n",
       "      <td>34.678288</td>\n",
       "      <td>57.178028</td>\n",
       "      <td>1.240013</td>\n",
       "    </tr>\n",
       "    <tr>\n",
       "      <th>min</th>\n",
       "      <td>5.000000</td>\n",
       "      <td>20.000000</td>\n",
       "      <td>0.190000</td>\n",
       "    </tr>\n",
       "    <tr>\n",
       "      <th>25%</th>\n",
       "      <td>23.500000</td>\n",
       "      <td>24.500000</td>\n",
       "      <td>0.670000</td>\n",
       "    </tr>\n",
       "    <tr>\n",
       "      <th>50%</th>\n",
       "      <td>34.000000</td>\n",
       "      <td>31.000000</td>\n",
       "      <td>1.030000</td>\n",
       "    </tr>\n",
       "    <tr>\n",
       "      <th>75%</th>\n",
       "      <td>56.500000</td>\n",
       "      <td>50.500000</td>\n",
       "      <td>1.650000</td>\n",
       "    </tr>\n",
       "    <tr>\n",
       "      <th>max</th>\n",
       "      <td>207.000000</td>\n",
       "      <td>516.600000</td>\n",
       "      <td>10.000000</td>\n",
       "    </tr>\n",
       "  </tbody>\n",
       "</table>\n",
       "</div>"
      ],
      "text/plain": [
       "       No. of collected volumes  Approximate sales in million(s)  \\\n",
       "count                187.000000                       187.000000   \n",
       "mean                  46.048128                        50.764332   \n",
       "std                   34.678288                        57.178028   \n",
       "min                    5.000000                        20.000000   \n",
       "25%                   23.500000                        24.500000   \n",
       "50%                   34.000000                        31.000000   \n",
       "75%                   56.500000                        50.500000   \n",
       "max                  207.000000                       516.600000   \n",
       "\n",
       "       Average sales per volume in million(s)  \n",
       "count                              187.000000  \n",
       "mean                                 1.377380  \n",
       "std                                  1.240013  \n",
       "min                                  0.190000  \n",
       "25%                                  0.670000  \n",
       "50%                                  1.030000  \n",
       "75%                                  1.650000  \n",
       "max                                 10.000000  "
      ]
     },
     "execution_count": 8,
     "metadata": {},
     "output_type": "execute_result"
    }
   ],
   "source": [
    "manga.describe()"
   ]
  },
  {
   "cell_type": "code",
   "execution_count": 9,
   "id": "d6ad9548",
   "metadata": {},
   "outputs": [
    {
     "name": "stdout",
     "output_type": "stream",
     "text": [
      "<class 'pandas.core.frame.DataFrame'>\n",
      "RangeIndex: 187 entries, 0 to 186\n",
      "Data columns (total 8 columns):\n",
      " #   Column                                  Non-Null Count  Dtype  \n",
      "---  ------                                  --------------  -----  \n",
      " 0   Manga series                            187 non-null    object \n",
      " 1   Author(s)                               187 non-null    object \n",
      " 2   Publisher                               187 non-null    object \n",
      " 3   Demographic                             187 non-null    object \n",
      " 4   No. of collected volumes                187 non-null    int64  \n",
      " 5   Serialized                              187 non-null    object \n",
      " 6   Approximate sales in million(s)         187 non-null    float64\n",
      " 7   Average sales per volume in million(s)  187 non-null    float64\n",
      "dtypes: float64(2), int64(1), object(5)\n",
      "memory usage: 11.8+ KB\n"
     ]
    }
   ],
   "source": [
    "manga.info()"
   ]
  },
  {
   "cell_type": "markdown",
   "id": "a468f396",
   "metadata": {},
   "source": [
    "# LabelEncoder"
   ]
  },
  {
   "cell_type": "code",
   "execution_count": 10,
   "id": "c8fa0558",
   "metadata": {},
   "outputs": [],
   "source": [
    "from sklearn.preprocessing import LabelEncoder\n",
    "one = LabelEncoder()"
   ]
  },
  {
   "cell_type": "code",
   "execution_count": 11,
   "id": "83b16a88",
   "metadata": {},
   "outputs": [],
   "source": [
    "manga['Publisher'] = one.fit_transform(manga['Publisher'])\n",
    "manga['Manga series'] = one.fit_transform(manga['Manga series'])\n",
    "manga['Author(s)'] = one.fit_transform(manga['Author(s)'])\n",
    "manga['Demographic'] = one.fit_transform(manga['Demographic'])"
   ]
  },
  {
   "cell_type": "code",
   "execution_count": 12,
   "id": "b5af1982",
   "metadata": {},
   "outputs": [
    {
     "data": {
      "text/html": [
       "<div>\n",
       "<style scoped>\n",
       "    .dataframe tbody tr th:only-of-type {\n",
       "        vertical-align: middle;\n",
       "    }\n",
       "\n",
       "    .dataframe tbody tr th {\n",
       "        vertical-align: top;\n",
       "    }\n",
       "\n",
       "    .dataframe thead th {\n",
       "        text-align: right;\n",
       "    }\n",
       "</style>\n",
       "<table border=\"1\" class=\"dataframe\">\n",
       "  <thead>\n",
       "    <tr style=\"text-align: right;\">\n",
       "      <th></th>\n",
       "      <th>Manga series</th>\n",
       "      <th>Author(s)</th>\n",
       "      <th>Publisher</th>\n",
       "      <th>Demographic</th>\n",
       "      <th>No. of collected volumes</th>\n",
       "      <th>Serialized</th>\n",
       "      <th>Approximate sales in million(s)</th>\n",
       "      <th>Average sales per volume in million(s)</th>\n",
       "    </tr>\n",
       "  </thead>\n",
       "  <tbody>\n",
       "    <tr>\n",
       "      <th>0</th>\n",
       "      <td>118</td>\n",
       "      <td>15</td>\n",
       "      <td>13</td>\n",
       "      <td>5</td>\n",
       "      <td>104</td>\n",
       "      <td>1997–present</td>\n",
       "      <td>516.6</td>\n",
       "      <td>4.97</td>\n",
       "    </tr>\n",
       "    <tr>\n",
       "      <th>1</th>\n",
       "      <td>72</td>\n",
       "      <td>123</td>\n",
       "      <td>12</td>\n",
       "      <td>2</td>\n",
       "      <td>207</td>\n",
       "      <td>1968–present</td>\n",
       "      <td>300.0</td>\n",
       "      <td>1.45</td>\n",
       "    </tr>\n",
       "    <tr>\n",
       "      <th>2</th>\n",
       "      <td>29</td>\n",
       "      <td>22</td>\n",
       "      <td>12</td>\n",
       "      <td>5</td>\n",
       "      <td>102</td>\n",
       "      <td>1994–present</td>\n",
       "      <td>270.0</td>\n",
       "      <td>2.65</td>\n",
       "    </tr>\n",
       "    <tr>\n",
       "      <th>3</th>\n",
       "      <td>50</td>\n",
       "      <td>4</td>\n",
       "      <td>13</td>\n",
       "      <td>5</td>\n",
       "      <td>42</td>\n",
       "      <td>1984–1995</td>\n",
       "      <td>260.0</td>\n",
       "      <td>6.19</td>\n",
       "    </tr>\n",
       "    <tr>\n",
       "      <th>4</th>\n",
       "      <td>48</td>\n",
       "      <td>17</td>\n",
       "      <td>12</td>\n",
       "      <td>0</td>\n",
       "      <td>45</td>\n",
       "      <td>1969–1996</td>\n",
       "      <td>250.0</td>\n",
       "      <td>4.71</td>\n",
       "    </tr>\n",
       "    <tr>\n",
       "      <th>...</th>\n",
       "      <td>...</td>\n",
       "      <td>...</td>\n",
       "      <td>...</td>\n",
       "      <td>...</td>\n",
       "      <td>...</td>\n",
       "      <td>...</td>\n",
       "      <td>...</td>\n",
       "      <td>...</td>\n",
       "    </tr>\n",
       "    <tr>\n",
       "      <th>182</th>\n",
       "      <td>150</td>\n",
       "      <td>114</td>\n",
       "      <td>5</td>\n",
       "      <td>3</td>\n",
       "      <td>22</td>\n",
       "      <td>1976–1982</td>\n",
       "      <td>20.0</td>\n",
       "      <td>0.90</td>\n",
       "    </tr>\n",
       "    <tr>\n",
       "      <th>183</th>\n",
       "      <td>152</td>\n",
       "      <td>70</td>\n",
       "      <td>13</td>\n",
       "      <td>3</td>\n",
       "      <td>21</td>\n",
       "      <td>1976–1981</td>\n",
       "      <td>20.0</td>\n",
       "      <td>0.95</td>\n",
       "    </tr>\n",
       "    <tr>\n",
       "      <th>184</th>\n",
       "      <td>166</td>\n",
       "      <td>141</td>\n",
       "      <td>9</td>\n",
       "      <td>3</td>\n",
       "      <td>13</td>\n",
       "      <td>1980–1993</td>\n",
       "      <td>20.0</td>\n",
       "      <td>1.53</td>\n",
       "    </tr>\n",
       "    <tr>\n",
       "      <th>185</th>\n",
       "      <td>168</td>\n",
       "      <td>131</td>\n",
       "      <td>12</td>\n",
       "      <td>2</td>\n",
       "      <td>34</td>\n",
       "      <td>1992–2001</td>\n",
       "      <td>20.0</td>\n",
       "      <td>0.58</td>\n",
       "    </tr>\n",
       "    <tr>\n",
       "      <th>186</th>\n",
       "      <td>179</td>\n",
       "      <td>148</td>\n",
       "      <td>10</td>\n",
       "      <td>2</td>\n",
       "      <td>60</td>\n",
       "      <td>1999–2009</td>\n",
       "      <td>20.0</td>\n",
       "      <td>0.33</td>\n",
       "    </tr>\n",
       "  </tbody>\n",
       "</table>\n",
       "<p>187 rows × 8 columns</p>\n",
       "</div>"
      ],
      "text/plain": [
       "     Manga series  Author(s)  Publisher  Demographic  \\\n",
       "0             118         15         13            5   \n",
       "1              72        123         12            2   \n",
       "2              29         22         12            5   \n",
       "3              50          4         13            5   \n",
       "4              48         17         12            0   \n",
       "..            ...        ...        ...          ...   \n",
       "182           150        114          5            3   \n",
       "183           152         70         13            3   \n",
       "184           166        141          9            3   \n",
       "185           168        131         12            2   \n",
       "186           179        148         10            2   \n",
       "\n",
       "     No. of collected volumes    Serialized  Approximate sales in million(s)  \\\n",
       "0                         104  1997–present                            516.6   \n",
       "1                         207  1968–present                            300.0   \n",
       "2                         102  1994–present                            270.0   \n",
       "3                          42     1984–1995                            260.0   \n",
       "4                          45     1969–1996                            250.0   \n",
       "..                        ...           ...                              ...   \n",
       "182                        22     1976–1982                             20.0   \n",
       "183                        21     1976–1981                             20.0   \n",
       "184                        13     1980–1993                             20.0   \n",
       "185                        34     1992–2001                             20.0   \n",
       "186                        60     1999–2009                             20.0   \n",
       "\n",
       "     Average sales per volume in million(s)  \n",
       "0                                      4.97  \n",
       "1                                      1.45  \n",
       "2                                      2.65  \n",
       "3                                      6.19  \n",
       "4                                      4.71  \n",
       "..                                      ...  \n",
       "182                                    0.90  \n",
       "183                                    0.95  \n",
       "184                                    1.53  \n",
       "185                                    0.58  \n",
       "186                                    0.33  \n",
       "\n",
       "[187 rows x 8 columns]"
      ]
     },
     "execution_count": 12,
     "metadata": {},
     "output_type": "execute_result"
    }
   ],
   "source": [
    "manga"
   ]
  },
  {
   "cell_type": "code",
   "execution_count": 13,
   "id": "a1142e68",
   "metadata": {},
   "outputs": [],
   "source": [
    "import pickle\n",
    "pickle.dump(one,open(\"col_mang.pkl\",\"wb\"))"
   ]
  },
  {
   "cell_type": "markdown",
   "id": "8384511a",
   "metadata": {},
   "source": [
    "# Visualization "
   ]
  },
  {
   "cell_type": "code",
   "execution_count": 14,
   "id": "3f082891",
   "metadata": {},
   "outputs": [
    {
     "data": {
      "text/plain": [
       "<AxesSubplot:>"
      ]
     },
     "execution_count": 14,
     "metadata": {},
     "output_type": "execute_result"
    },
    {
     "data": {
      "image/png": "[encoded data removed]",
      "text/plain": [
       "<Figure size 1000x800 with 2 Axes>"
      ]
     },
     "metadata": {},
     "output_type": "display_data"
    }
   ],
   "source": [
    "import matplotlib.pyplot as plt\n",
    "import seaborn as sns\n",
    "plt.subplots(figsize=(10,8))\n",
    "sns.heatmap(manga.corr(), annot=True, fmt='.2f')"
   ]
  },
  {
   "cell_type": "code",
   "execution_count": 15,
   "id": "e4da6fdd",
   "metadata": {},
   "outputs": [],
   "source": [
    "upper_limit = manga[\"Approximate sales in million(s)\"].quantile(0.80)\n",
    "lower_limit = manga[\"Approximate sales in million(s)\"].quantile(0.20)"
   ]
  },
  {
   "cell_type": "code",
   "execution_count": 16,
   "id": "5ff9e632",
   "metadata": {},
   "outputs": [
    {
     "data": {
      "text/plain": [
       "57.60000000000002"
      ]
     },
     "execution_count": 16,
     "metadata": {},
     "output_type": "execute_result"
    }
   ],
   "source": [
    "upper_limit"
   ]
  },
  {
   "cell_type": "code",
   "execution_count": 17,
   "id": "2ebcbbd8",
   "metadata": {},
   "outputs": [
    {
     "data": {
      "text/plain": [
       "22.0"
      ]
     },
     "execution_count": 17,
     "metadata": {},
     "output_type": "execute_result"
    }
   ],
   "source": [
    "lower_limit"
   ]
  },
  {
   "cell_type": "code",
   "execution_count": 18,
   "id": "3a2cb22a",
   "metadata": {},
   "outputs": [],
   "source": [
    "manga = manga[(manga[\"Approximate sales in million(s)\"] <= 57.60) & (manga[\"Approximate sales in million(s)\"] >= 22.0)]"
   ]
  },
  {
   "cell_type": "code",
   "execution_count": 19,
   "id": "b9078aec",
   "metadata": {},
   "outputs": [
    {
     "data": {
      "text/plain": [
       "<AxesSubplot:xlabel='Demographic', ylabel='Approximate sales in million(s)'>"
      ]
     },
     "execution_count": 19,
     "metadata": {},
     "output_type": "execute_result"
    },
    {
     "data": {
      "image/png": "[encoded data removed]",
      "text/plain": [
       "<Figure size 640x480 with 1 Axes>"
      ]
     },
     "metadata": {},
     "output_type": "display_data"
    }
   ],
   "source": [
    "sns.boxplot(x = \"Demographic\",y = \"Approximate sales in million(s)\",data = manga,color = \"red\")"
   ]
  },
  {
   "cell_type": "code",
   "execution_count": 20,
   "id": "fbdff949",
   "metadata": {},
   "outputs": [
    {
     "data": {
      "text/plain": [
       "<AxesSubplot:xlabel='Publisher', ylabel='Approximate sales in million(s)'>"
      ]
     },
     "execution_count": 20,
     "metadata": {},
     "output_type": "execute_result"
    },
    {
     "data": {
      "image/png": "[encoded data removed]",
      "text/plain": [
       "<Figure size 640x480 with 1 Axes>"
      ]
     },
     "metadata": {},
     "output_type": "display_data"
    }
   ],
   "source": [
    "sns.boxplot(x = \"Publisher\",y = \"Approximate sales in million(s)\",data = manga,color = \"orange\")"
   ]
  },
  {
   "cell_type": "code",
   "execution_count": 21,
   "id": "6e7f98ad",
   "metadata": {},
   "outputs": [
    {
     "data": {
      "text/plain": [
       "<AxesSubplot:xlabel='Demographic', ylabel='Average sales per volume in million(s)'>"
      ]
     },
     "execution_count": 21,
     "metadata": {},
     "output_type": "execute_result"
    },
    {
     "data": {
      "image/png": "[encoded data removed]",
      "text/plain": [
       "<Figure size 640x480 with 1 Axes>"
      ]
     },
     "metadata": {},
     "output_type": "display_data"
    }
   ],
   "source": [
    "sns.boxplot(x = \"Demographic\",y = \"Average sales per volume in million(s)\",data = manga,color = \"black\")"
   ]
  },
  {
   "cell_type": "code",
   "execution_count": 22,
   "id": "4484263c",
   "metadata": {},
   "outputs": [],
   "source": [
    "upper_limit = manga[\"Average sales per volume in million(s)\"].quantile(0.70)\n",
    "lower_limit = manga[\"Average sales per volume in million(s)\"].quantile(0.30)"
   ]
  },
  {
   "cell_type": "code",
   "execution_count": 23,
   "id": "44ddf2e6",
   "metadata": {},
   "outputs": [
    {
     "data": {
      "text/plain": [
       "1.3319999999999999"
      ]
     },
     "execution_count": 23,
     "metadata": {},
     "output_type": "execute_result"
    }
   ],
   "source": [
    "upper_limit"
   ]
  },
  {
   "cell_type": "code",
   "execution_count": 24,
   "id": "98b73ac1",
   "metadata": {},
   "outputs": [
    {
     "data": {
      "text/plain": [
       "0.722"
      ]
     },
     "execution_count": 24,
     "metadata": {},
     "output_type": "execute_result"
    }
   ],
   "source": [
    "lower_limit"
   ]
  },
  {
   "cell_type": "code",
   "execution_count": null,
   "id": "6ad38763",
   "metadata": {},
   "outputs": [],
   "source": []
  },
  {
   "cell_type": "code",
   "execution_count": 25,
   "id": "a5b0dca9",
   "metadata": {},
   "outputs": [
    {
     "data": {
      "text/plain": [
       "<AxesSubplot:xlabel='Demographic', ylabel='Average sales per volume in million(s)'>"
      ]
     },
     "execution_count": 25,
     "metadata": {},
     "output_type": "execute_result"
    },
    {
     "data": {
      "image/png": "[encoded data removed]",
      "text/plain": [
       "<Figure size 640x480 with 1 Axes>"
      ]
     },
     "metadata": {},
     "output_type": "display_data"
    }
   ],
   "source": [
    "sns.boxplot(x = \"Demographic\",y = \"Average sales per volume in million(s)\",data = manga,color = \"black\")"
   ]
  },
  {
   "cell_type": "code",
   "execution_count": 26,
   "id": "08cdb561",
   "metadata": {},
   "outputs": [
    {
     "name": "stderr",
     "output_type": "stream",
     "text": [
      "C:\\Users\\DELL\\anaconda3\\lib\\site-packages\\seaborn\\_decorators.py:36: FutureWarning: Pass the following variables as keyword args: x, y. From version 0.12, the only valid positional argument will be `data`, and passing other arguments without an explicit keyword will result in an error or misinterpretation.\n",
      "  warnings.warn(\n"
     ]
    },
    {
     "data": {
      "text/plain": [
       "<AxesSubplot:xlabel='Manga series', ylabel='No. of collected volumes'>"
      ]
     },
     "execution_count": 26,
     "metadata": {},
     "output_type": "execute_result"
    },
    {
     "data": {
      "image/png": "[encoded data removed]",
      "text/plain": [
       "<Figure size 640x480 with 1 Axes>"
      ]
     },
     "metadata": {},
     "output_type": "display_data"
    }
   ],
   "source": [
    "sns.barplot(manga[\"Manga series\"],manga[\"No. of collected volumes\"])"
   ]
  },
  {
   "cell_type": "code",
   "execution_count": 27,
   "id": "1b965a0a",
   "metadata": {},
   "outputs": [
    {
     "data": {
      "text/plain": [
       "<seaborn.axisgrid.FacetGrid at 0x22b358a1eb0>"
      ]
     },
     "execution_count": 27,
     "metadata": {},
     "output_type": "execute_result"
    },
    {
     "data": {
      "image/png": "[encoded data removed]",
      "text/plain": [
       "<Figure size 500x500 with 1 Axes>"
      ]
     },
     "metadata": {},
     "output_type": "display_data"
    }
   ],
   "source": [
    "sns.displot(manga[\"Approximate sales in million(s)\"],bins = 20, color = \"yellow\")"
   ]
  },
  {
   "cell_type": "markdown",
   "id": "d72ab201",
   "metadata": {},
   "source": [
    "# Data Preprocessing "
   ]
  },
  {
   "cell_type": "code",
   "execution_count": 28,
   "id": "adc9315b",
   "metadata": {},
   "outputs": [
    {
     "name": "stderr",
     "output_type": "stream",
     "text": [
      "C:\\Users\\DELL\\AppData\\Local\\Temp\\ipykernel_10548\\3040902744.py:8: SettingWithCopyWarning: \n",
      "A value is trying to be set on a copy of a slice from a DataFrame.\n",
      "Try using .loc[row_indexer,col_indexer] = value instead\n",
      "\n",
      "See the caveats in the documentation: https://pandas.pydata.org/pandas-docs/stable/user_guide/indexing.html#returning-a-view-versus-a-copy\n",
      "  manga[['Start_Year', 'End_Year']] = [hyphen_split(x) for x in manga[\"Serialized\"]]\n",
      "C:\\Users\\DELL\\AppData\\Local\\Temp\\ipykernel_10548\\3040902744.py:8: SettingWithCopyWarning: \n",
      "A value is trying to be set on a copy of a slice from a DataFrame.\n",
      "Try using .loc[row_indexer,col_indexer] = value instead\n",
      "\n",
      "See the caveats in the documentation: https://pandas.pydata.org/pandas-docs/stable/user_guide/indexing.html#returning-a-view-versus-a-copy\n",
      "  manga[['Start_Year', 'End_Year']] = [hyphen_split(x) for x in manga[\"Serialized\"]]\n"
     ]
    }
   ],
   "source": [
    "def hyphen_split(Serialized):\n",
    "    if \"–\" in Serialized:\n",
    "        return Serialized.split(\"–\", 1)\n",
    "    else:\n",
    "        return [Serialized, None]\n",
    "\n",
    "\n",
    "manga[['Start_Year', 'End_Year']] = [hyphen_split(x) for x in manga[\"Serialized\"]]"
   ]
  },
  {
   "cell_type": "code",
   "execution_count": 29,
   "id": "7bc9d27a",
   "metadata": {},
   "outputs": [],
   "source": [
    "import pickle\n",
    "pickle.dump(hyphen_split,open(\"div_mang.pkl\",\"wb\"))"
   ]
  },
  {
   "cell_type": "code",
   "execution_count": 30,
   "id": "aa024c1c",
   "metadata": {},
   "outputs": [
    {
     "data": {
      "text/html": [
       "<div>\n",
       "<style scoped>\n",
       "    .dataframe tbody tr th:only-of-type {\n",
       "        vertical-align: middle;\n",
       "    }\n",
       "\n",
       "    .dataframe tbody tr th {\n",
       "        vertical-align: top;\n",
       "    }\n",
       "\n",
       "    .dataframe thead th {\n",
       "        text-align: right;\n",
       "    }\n",
       "</style>\n",
       "<table border=\"1\" class=\"dataframe\">\n",
       "  <thead>\n",
       "    <tr style=\"text-align: right;\">\n",
       "      <th></th>\n",
       "      <th>Manga series</th>\n",
       "      <th>Author(s)</th>\n",
       "      <th>Publisher</th>\n",
       "      <th>Demographic</th>\n",
       "      <th>No. of collected volumes</th>\n",
       "      <th>Serialized</th>\n",
       "      <th>Approximate sales in million(s)</th>\n",
       "      <th>Average sales per volume in million(s)</th>\n",
       "      <th>Start_Year</th>\n",
       "      <th>End_Year</th>\n",
       "    </tr>\n",
       "  </thead>\n",
       "  <tbody>\n",
       "    <tr>\n",
       "      <th>38</th>\n",
       "      <td>83</td>\n",
       "      <td>117</td>\n",
       "      <td>9</td>\n",
       "      <td>2</td>\n",
       "      <td>48</td>\n",
       "      <td>1995–2013</td>\n",
       "      <td>56.0</td>\n",
       "      <td>1.16</td>\n",
       "      <td>1995</td>\n",
       "      <td>2013</td>\n",
       "    </tr>\n",
       "    <tr>\n",
       "      <th>39</th>\n",
       "      <td>69</td>\n",
       "      <td>25</td>\n",
       "      <td>13</td>\n",
       "      <td>5</td>\n",
       "      <td>77</td>\n",
       "      <td>2003–2019</td>\n",
       "      <td>55.5</td>\n",
       "      <td>0.72</td>\n",
       "      <td>2003</td>\n",
       "      <td>2019</td>\n",
       "    </tr>\n",
       "    <tr>\n",
       "      <th>40</th>\n",
       "      <td>13</td>\n",
       "      <td>35</td>\n",
       "      <td>16</td>\n",
       "      <td>2</td>\n",
       "      <td>22</td>\n",
       "      <td>1988–1996</td>\n",
       "      <td>55.0</td>\n",
       "      <td>2.50</td>\n",
       "      <td>1988</td>\n",
       "      <td>1996</td>\n",
       "    </tr>\n",
       "    <tr>\n",
       "      <th>41</th>\n",
       "      <td>18</td>\n",
       "      <td>67</td>\n",
       "      <td>5</td>\n",
       "      <td>2</td>\n",
       "      <td>41</td>\n",
       "      <td>1989–present</td>\n",
       "      <td>55.0</td>\n",
       "      <td>1.34</td>\n",
       "      <td>1989</td>\n",
       "      <td>present</td>\n",
       "    </tr>\n",
       "    <tr>\n",
       "      <th>42</th>\n",
       "      <td>74</td>\n",
       "      <td>88</td>\n",
       "      <td>12</td>\n",
       "      <td>5</td>\n",
       "      <td>34</td>\n",
       "      <td>1992–1999</td>\n",
       "      <td>55.0</td>\n",
       "      <td>1.61</td>\n",
       "      <td>1992</td>\n",
       "      <td>1999</td>\n",
       "    </tr>\n",
       "    <tr>\n",
       "      <th>43</th>\n",
       "      <td>75</td>\n",
       "      <td>24</td>\n",
       "      <td>13</td>\n",
       "      <td>5</td>\n",
       "      <td>45</td>\n",
       "      <td>2012–2020</td>\n",
       "      <td>55.0</td>\n",
       "      <td>1.22</td>\n",
       "      <td>2012</td>\n",
       "      <td>2020</td>\n",
       "    </tr>\n",
       "    <tr>\n",
       "      <th>44</th>\n",
       "      <td>124</td>\n",
       "      <td>109</td>\n",
       "      <td>12</td>\n",
       "      <td>5</td>\n",
       "      <td>38</td>\n",
       "      <td>1987–1996</td>\n",
       "      <td>55.0</td>\n",
       "      <td>1.44</td>\n",
       "      <td>1987</td>\n",
       "      <td>1996</td>\n",
       "    </tr>\n",
       "    <tr>\n",
       "      <th>45</th>\n",
       "      <td>107</td>\n",
       "      <td>14</td>\n",
       "      <td>10</td>\n",
       "      <td>5</td>\n",
       "      <td>159</td>\n",
       "      <td>1992–present</td>\n",
       "      <td>53.0</td>\n",
       "      <td>0.33</td>\n",
       "      <td>1992</td>\n",
       "      <td>present</td>\n",
       "    </tr>\n",
       "    <tr>\n",
       "      <th>46</th>\n",
       "      <td>151</td>\n",
       "      <td>64</td>\n",
       "      <td>0</td>\n",
       "      <td>5</td>\n",
       "      <td>101</td>\n",
       "      <td>1993–present</td>\n",
       "      <td>51.0</td>\n",
       "      <td>0.50</td>\n",
       "      <td>1993</td>\n",
       "      <td>present</td>\n",
       "    </tr>\n",
       "    <tr>\n",
       "      <th>47</th>\n",
       "      <td>20</td>\n",
       "      <td>105</td>\n",
       "      <td>0</td>\n",
       "      <td>5</td>\n",
       "      <td>25</td>\n",
       "      <td>1973–1983</td>\n",
       "      <td>50.0</td>\n",
       "      <td>2.00</td>\n",
       "      <td>1973</td>\n",
       "      <td>1983</td>\n",
       "    </tr>\n",
       "    <tr>\n",
       "      <th>48</th>\n",
       "      <td>35</td>\n",
       "      <td>139</td>\n",
       "      <td>13</td>\n",
       "      <td>5</td>\n",
       "      <td>35</td>\n",
       "      <td>1985–1991</td>\n",
       "      <td>50.0</td>\n",
       "      <td>1.42</td>\n",
       "      <td>1985</td>\n",
       "      <td>1991</td>\n",
       "    </tr>\n",
       "    <tr>\n",
       "      <th>49</th>\n",
       "      <td>36</td>\n",
       "      <td>7</td>\n",
       "      <td>13</td>\n",
       "      <td>5</td>\n",
       "      <td>18</td>\n",
       "      <td>1978–1984</td>\n",
       "      <td>50.0</td>\n",
       "      <td>2.77</td>\n",
       "      <td>1978</td>\n",
       "      <td>1984</td>\n",
       "    </tr>\n",
       "    <tr>\n",
       "      <th>50</th>\n",
       "      <td>46</td>\n",
       "      <td>21</td>\n",
       "      <td>9</td>\n",
       "      <td>5</td>\n",
       "      <td>5</td>\n",
       "      <td>1972–1973</td>\n",
       "      <td>50.0</td>\n",
       "      <td>10.00</td>\n",
       "      <td>1972</td>\n",
       "      <td>1973</td>\n",
       "    </tr>\n",
       "    <tr>\n",
       "      <th>51</th>\n",
       "      <td>52</td>\n",
       "      <td>107</td>\n",
       "      <td>13</td>\n",
       "      <td>5</td>\n",
       "      <td>37</td>\n",
       "      <td>1989–1996</td>\n",
       "      <td>50.0</td>\n",
       "      <td>1.35</td>\n",
       "      <td>1989</td>\n",
       "      <td>1996</td>\n",
       "    </tr>\n",
       "    <tr>\n",
       "      <th>52</th>\n",
       "      <td>58</td>\n",
       "      <td>124</td>\n",
       "      <td>9</td>\n",
       "      <td>5</td>\n",
       "      <td>65</td>\n",
       "      <td>1973–1983</td>\n",
       "      <td>50.0</td>\n",
       "      <td>0.76</td>\n",
       "      <td>1973</td>\n",
       "      <td>1983</td>\n",
       "    </tr>\n",
       "  </tbody>\n",
       "</table>\n",
       "</div>"
      ],
      "text/plain": [
       "    Manga series  Author(s)  Publisher  Demographic  No. of collected volumes  \\\n",
       "38            83        117          9            2                        48   \n",
       "39            69         25         13            5                        77   \n",
       "40            13         35         16            2                        22   \n",
       "41            18         67          5            2                        41   \n",
       "42            74         88         12            5                        34   \n",
       "43            75         24         13            5                        45   \n",
       "44           124        109         12            5                        38   \n",
       "45           107         14         10            5                       159   \n",
       "46           151         64          0            5                       101   \n",
       "47            20        105          0            5                        25   \n",
       "48            35        139         13            5                        35   \n",
       "49            36          7         13            5                        18   \n",
       "50            46         21          9            5                         5   \n",
       "51            52        107         13            5                        37   \n",
       "52            58        124          9            5                        65   \n",
       "\n",
       "      Serialized  Approximate sales in million(s)  \\\n",
       "38     1995–2013                             56.0   \n",
       "39     2003–2019                             55.5   \n",
       "40     1988–1996                             55.0   \n",
       "41  1989–present                             55.0   \n",
       "42     1992–1999                             55.0   \n",
       "43     2012–2020                             55.0   \n",
       "44     1987–1996                             55.0   \n",
       "45  1992–present                             53.0   \n",
       "46  1993–present                             51.0   \n",
       "47     1973–1983                             50.0   \n",
       "48     1985–1991                             50.0   \n",
       "49     1978–1984                             50.0   \n",
       "50     1972–1973                             50.0   \n",
       "51     1989–1996                             50.0   \n",
       "52     1973–1983                             50.0   \n",
       "\n",
       "    Average sales per volume in million(s) Start_Year End_Year  \n",
       "38                                    1.16       1995     2013  \n",
       "39                                    0.72       2003     2019  \n",
       "40                                    2.50       1988     1996  \n",
       "41                                    1.34       1989  present  \n",
       "42                                    1.61       1992     1999  \n",
       "43                                    1.22       2012     2020  \n",
       "44                                    1.44       1987     1996  \n",
       "45                                    0.33       1992  present  \n",
       "46                                    0.50       1993  present  \n",
       "47                                    2.00       1973     1983  \n",
       "48                                    1.42       1985     1991  \n",
       "49                                    2.77       1978     1984  \n",
       "50                                   10.00       1972     1973  \n",
       "51                                    1.35       1989     1996  \n",
       "52                                    0.76       1973     1983  "
      ]
     },
     "execution_count": 30,
     "metadata": {},
     "output_type": "execute_result"
    }
   ],
   "source": [
    "manga.head(15)"
   ]
  },
  {
   "cell_type": "code",
   "execution_count": 31,
   "id": "f99ebe55",
   "metadata": {
    "scrolled": true
   },
   "outputs": [],
   "source": [
    "manga=manga.replace(to_replace=\"present\",value=\"2023\")\n",
    "manga=manga.replace(to_replace=\"2014 (on hiatus)\",value=\"2014\")\n",
    "manga=manga.replace(to_replace=\"2015 (on hiatus)\",value=\"2015\")\n",
    "manga=manga.replace(to_replace=\"1987, 2011–present\",value=\"2023\")\n",
    "manga=manga.replace(to_replace=\"2012 (on hiatus)\",value=\"2012\")\n",
    "manga=manga.replace(to_replace=\"2009 (on hiatus)\",value=\"2009\")\n",
    "manga=manga.replace(to_replace=\"2016 (on hiatus)\",value=\"2016\")\n",
    "manga=manga.replace(to_replace=\"2019 (on hiatus)\",value=\"2019\")\n",
    "manga=manga.replace(to_replace=\"2018 (on hiatus)\",value=\"2018\")\n",
    "manga=manga.replace(to_replace=\"present (on hiatus)\",value=\"2023\")"
   ]
  },
  {
   "cell_type": "code",
   "execution_count": 32,
   "id": "456a2f68",
   "metadata": {},
   "outputs": [],
   "source": [
    " mang = manga.drop([\"Serialized\"],axis = 1)"
   ]
  },
  {
   "cell_type": "code",
   "execution_count": 33,
   "id": "cbdc8478",
   "metadata": {},
   "outputs": [
    {
     "data": {
      "text/html": [
       "<div>\n",
       "<style scoped>\n",
       "    .dataframe tbody tr th:only-of-type {\n",
       "        vertical-align: middle;\n",
       "    }\n",
       "\n",
       "    .dataframe tbody tr th {\n",
       "        vertical-align: top;\n",
       "    }\n",
       "\n",
       "    .dataframe thead th {\n",
       "        text-align: right;\n",
       "    }\n",
       "</style>\n",
       "<table border=\"1\" class=\"dataframe\">\n",
       "  <thead>\n",
       "    <tr style=\"text-align: right;\">\n",
       "      <th></th>\n",
       "      <th>Manga series</th>\n",
       "      <th>Author(s)</th>\n",
       "      <th>Publisher</th>\n",
       "      <th>Demographic</th>\n",
       "      <th>No. of collected volumes</th>\n",
       "      <th>Approximate sales in million(s)</th>\n",
       "      <th>Average sales per volume in million(s)</th>\n",
       "      <th>Start_Year</th>\n",
       "      <th>End_Year</th>\n",
       "    </tr>\n",
       "  </thead>\n",
       "  <tbody>\n",
       "    <tr>\n",
       "      <th>38</th>\n",
       "      <td>83</td>\n",
       "      <td>117</td>\n",
       "      <td>9</td>\n",
       "      <td>2</td>\n",
       "      <td>48</td>\n",
       "      <td>56.0</td>\n",
       "      <td>1.16</td>\n",
       "      <td>1995</td>\n",
       "      <td>2013</td>\n",
       "    </tr>\n",
       "    <tr>\n",
       "      <th>39</th>\n",
       "      <td>69</td>\n",
       "      <td>25</td>\n",
       "      <td>13</td>\n",
       "      <td>5</td>\n",
       "      <td>77</td>\n",
       "      <td>55.5</td>\n",
       "      <td>0.72</td>\n",
       "      <td>2003</td>\n",
       "      <td>2019</td>\n",
       "    </tr>\n",
       "    <tr>\n",
       "      <th>40</th>\n",
       "      <td>13</td>\n",
       "      <td>35</td>\n",
       "      <td>16</td>\n",
       "      <td>2</td>\n",
       "      <td>22</td>\n",
       "      <td>55.0</td>\n",
       "      <td>2.50</td>\n",
       "      <td>1988</td>\n",
       "      <td>1996</td>\n",
       "    </tr>\n",
       "    <tr>\n",
       "      <th>41</th>\n",
       "      <td>18</td>\n",
       "      <td>67</td>\n",
       "      <td>5</td>\n",
       "      <td>2</td>\n",
       "      <td>41</td>\n",
       "      <td>55.0</td>\n",
       "      <td>1.34</td>\n",
       "      <td>1989</td>\n",
       "      <td>2023</td>\n",
       "    </tr>\n",
       "    <tr>\n",
       "      <th>42</th>\n",
       "      <td>74</td>\n",
       "      <td>88</td>\n",
       "      <td>12</td>\n",
       "      <td>5</td>\n",
       "      <td>34</td>\n",
       "      <td>55.0</td>\n",
       "      <td>1.61</td>\n",
       "      <td>1992</td>\n",
       "      <td>1999</td>\n",
       "    </tr>\n",
       "    <tr>\n",
       "      <th>...</th>\n",
       "      <td>...</td>\n",
       "      <td>...</td>\n",
       "      <td>...</td>\n",
       "      <td>...</td>\n",
       "      <td>...</td>\n",
       "      <td>...</td>\n",
       "      <td>...</td>\n",
       "      <td>...</td>\n",
       "      <td>...</td>\n",
       "    </tr>\n",
       "    <tr>\n",
       "      <th>148</th>\n",
       "      <td>4</td>\n",
       "      <td>113</td>\n",
       "      <td>12</td>\n",
       "      <td>2</td>\n",
       "      <td>107</td>\n",
       "      <td>22.0</td>\n",
       "      <td>0.20</td>\n",
       "      <td>1973</td>\n",
       "      <td>2014</td>\n",
       "    </tr>\n",
       "    <tr>\n",
       "      <th>149</th>\n",
       "      <td>28</td>\n",
       "      <td>13</td>\n",
       "      <td>9</td>\n",
       "      <td>3</td>\n",
       "      <td>24</td>\n",
       "      <td>22.0</td>\n",
       "      <td>0.91</td>\n",
       "      <td>1996</td>\n",
       "      <td>2023</td>\n",
       "    </tr>\n",
       "    <tr>\n",
       "      <th>150</th>\n",
       "      <td>81</td>\n",
       "      <td>110</td>\n",
       "      <td>13</td>\n",
       "      <td>5</td>\n",
       "      <td>23</td>\n",
       "      <td>22.0</td>\n",
       "      <td>0.95</td>\n",
       "      <td>1996</td>\n",
       "      <td>2000</td>\n",
       "    </tr>\n",
       "    <tr>\n",
       "      <th>151</th>\n",
       "      <td>91</td>\n",
       "      <td>1</td>\n",
       "      <td>13</td>\n",
       "      <td>2</td>\n",
       "      <td>28</td>\n",
       "      <td>22.0</td>\n",
       "      <td>0.79</td>\n",
       "      <td>2015</td>\n",
       "      <td>2022</td>\n",
       "    </tr>\n",
       "    <tr>\n",
       "      <th>152</th>\n",
       "      <td>154</td>\n",
       "      <td>161</td>\n",
       "      <td>13</td>\n",
       "      <td>2</td>\n",
       "      <td>22</td>\n",
       "      <td>22.0</td>\n",
       "      <td>1.00</td>\n",
       "      <td>2011</td>\n",
       "      <td>2018</td>\n",
       "    </tr>\n",
       "  </tbody>\n",
       "</table>\n",
       "<p>115 rows × 9 columns</p>\n",
       "</div>"
      ],
      "text/plain": [
       "     Manga series  Author(s)  Publisher  Demographic  \\\n",
       "38             83        117          9            2   \n",
       "39             69         25         13            5   \n",
       "40             13         35         16            2   \n",
       "41             18         67          5            2   \n",
       "42             74         88         12            5   \n",
       "..            ...        ...        ...          ...   \n",
       "148             4        113         12            2   \n",
       "149            28         13          9            3   \n",
       "150            81        110         13            5   \n",
       "151            91          1         13            2   \n",
       "152           154        161         13            2   \n",
       "\n",
       "     No. of collected volumes  Approximate sales in million(s)  \\\n",
       "38                         48                             56.0   \n",
       "39                         77                             55.5   \n",
       "40                         22                             55.0   \n",
       "41                         41                             55.0   \n",
       "42                         34                             55.0   \n",
       "..                        ...                              ...   \n",
       "148                       107                             22.0   \n",
       "149                        24                             22.0   \n",
       "150                        23                             22.0   \n",
       "151                        28                             22.0   \n",
       "152                        22                             22.0   \n",
       "\n",
       "     Average sales per volume in million(s) Start_Year End_Year  \n",
       "38                                     1.16       1995     2013  \n",
       "39                                     0.72       2003     2019  \n",
       "40                                     2.50       1988     1996  \n",
       "41                                     1.34       1989     2023  \n",
       "42                                     1.61       1992     1999  \n",
       "..                                      ...        ...      ...  \n",
       "148                                    0.20       1973     2014  \n",
       "149                                    0.91       1996     2023  \n",
       "150                                    0.95       1996     2000  \n",
       "151                                    0.79       2015     2022  \n",
       "152                                    1.00       2011     2018  \n",
       "\n",
       "[115 rows x 9 columns]"
      ]
     },
     "execution_count": 33,
     "metadata": {},
     "output_type": "execute_result"
    }
   ],
   "source": [
    "mang"
   ]
  },
  {
   "cell_type": "markdown",
   "id": "8eb85406",
   "metadata": {},
   "source": [
    "# StandardScaler"
   ]
  },
  {
   "cell_type": "code",
   "execution_count": 34,
   "id": "6076e8e5",
   "metadata": {},
   "outputs": [
    {
     "data": {
      "text/plain": [
       "array([[-0.12538063,  0.76377596, -0.28423195, ..., -0.01062505,\n",
       "         0.15168931,  0.388102  ],\n",
       "       [-0.37707991, -1.22606636,  0.72151187, ..., -0.43731372,\n",
       "         0.80077845,  0.82141976],\n",
       "       [-1.38387701, -1.00977915,  1.47581973, ...,  1.28883588,\n",
       "        -0.41626369, -0.83963167],\n",
       "       ...,\n",
       "       [-0.16133767,  0.61237491,  0.72151187, ..., -0.21427192,\n",
       "         0.23282545, -0.55075316],\n",
       "       [ 0.01844752, -1.74515565,  0.72151187, ..., -0.36943143,\n",
       "         1.77441217,  1.03807864],\n",
       "       [ 1.15109427,  1.71543967,  0.72151187, ..., -0.16578457,\n",
       "         1.44986759,  0.74920013]])"
      ]
     },
     "execution_count": 34,
     "metadata": {},
     "output_type": "execute_result"
    }
   ],
   "source": [
    "from sklearn.preprocessing import StandardScaler\n",
    "sc = StandardScaler()\n",
    "sc.fit_transform(mang)"
   ]
  },
  {
   "cell_type": "code",
   "execution_count": 35,
   "id": "016e59e1",
   "metadata": {},
   "outputs": [],
   "source": [
    "import pickle\n",
    "pickle.dump(sc,open(\"sc_mang.pkl\",\"wb\"))"
   ]
  },
  {
   "cell_type": "code",
   "execution_count": 36,
   "id": "5c105f8a",
   "metadata": {},
   "outputs": [],
   "source": [
    "y= mang[[\"Approximate sales in million(s)\"]]"
   ]
  },
  {
   "cell_type": "code",
   "execution_count": 37,
   "id": "4e30005d",
   "metadata": {},
   "outputs": [],
   "source": [
    "x= mang.drop([\"Manga series\",\"Author(s)\",\"Publisher\",\"Demographic\"],axis=1)"
   ]
  },
  {
   "cell_type": "code",
   "execution_count": 38,
   "id": "9dbd9aac",
   "metadata": {},
   "outputs": [],
   "source": [
    "x=sc.fit_transform(x)"
   ]
  },
  {
   "cell_type": "code",
   "execution_count": 39,
   "id": "a380ba36",
   "metadata": {},
   "outputs": [],
   "source": [
    "y = sc.fit_transform(y)"
   ]
  },
  {
   "cell_type": "markdown",
   "id": "b35be577",
   "metadata": {},
   "source": [
    "# Analysis"
   ]
  },
  {
   "cell_type": "code",
   "execution_count": 40,
   "id": "6f41bae8",
   "metadata": {},
   "outputs": [],
   "source": [
    "from sklearn.model_selection import train_test_split\n",
    "xtrain,xtest,ytrain,ytest = train_test_split(x,y,test_size = 0.2)"
   ]
  },
  {
   "cell_type": "markdown",
   "id": "1f4c8f18",
   "metadata": {},
   "source": [
    "# Linear Regression Analysis"
   ]
  },
  {
   "cell_type": "code",
   "execution_count": 41,
   "id": "c5609288",
   "metadata": {},
   "outputs": [
    {
     "data": {
      "text/plain": [
       "LinearRegression()"
      ]
     },
     "execution_count": 41,
     "metadata": {},
     "output_type": "execute_result"
    }
   ],
   "source": [
    "from sklearn.linear_model import LinearRegression\n",
    "lr = LinearRegression()\n",
    "lr.fit(xtrain,ytrain)"
   ]
  },
  {
   "cell_type": "code",
   "execution_count": 42,
   "id": "254be983",
   "metadata": {},
   "outputs": [
    {
     "data": {
      "text/plain": [
       "array([[ 0.03758277],\n",
       "       [-0.9256484 ],\n",
       "       [-0.15506347],\n",
       "       [-0.9256484 ],\n",
       "       [-0.20322503],\n",
       "       [-0.25138658],\n",
       "       [-0.44403282],\n",
       "       [-0.9256484 ],\n",
       "       [ 0.03758277],\n",
       "       [ 1.48242952],\n",
       "       [ 1.09713706],\n",
       "       [ 2.01220667],\n",
       "       [-1.02197152],\n",
       "       [-1.21461776],\n",
       "       [-0.15506347],\n",
       "       [ 1.96404511],\n",
       "       [-1.21461776],\n",
       "       [-1.11829464],\n",
       "       [ 1.96404511],\n",
       "       [-0.9256484 ],\n",
       "       [ 1.48242952],\n",
       "       [-0.82932529],\n",
       "       [-0.73300217]])"
      ]
     },
     "execution_count": 42,
     "metadata": {},
     "output_type": "execute_result"
    }
   ],
   "source": [
    "ypred = lr.predict(xtest)\n",
    "ypred"
   ]
  },
  {
   "cell_type": "code",
   "execution_count": 43,
   "id": "9e161a07",
   "metadata": {},
   "outputs": [
    {
     "data": {
      "text/plain": [
       "array([[ 0.03758277],\n",
       "       [-0.9256484 ],\n",
       "       [-0.15506347],\n",
       "       [-0.9256484 ],\n",
       "       [-0.20322503],\n",
       "       [-0.25138658],\n",
       "       [-0.44403282],\n",
       "       [-0.9256484 ],\n",
       "       [ 0.03758277],\n",
       "       [ 1.48242952],\n",
       "       [ 1.09713706],\n",
       "       [ 2.01220667],\n",
       "       [-1.02197152],\n",
       "       [-1.21461776],\n",
       "       [-0.15506347],\n",
       "       [ 1.96404511],\n",
       "       [-1.21461776],\n",
       "       [-1.11829464],\n",
       "       [ 1.96404511],\n",
       "       [-0.9256484 ],\n",
       "       [ 1.48242952],\n",
       "       [-0.82932529],\n",
       "       [-0.73300217]])"
      ]
     },
     "execution_count": 43,
     "metadata": {},
     "output_type": "execute_result"
    }
   ],
   "source": [
    "ytest"
   ]
  },
  {
   "cell_type": "code",
   "execution_count": 44,
   "id": "93de9e0c",
   "metadata": {},
   "outputs": [],
   "source": [
    "from sklearn.metrics import r2_score,mean_squared_error,mean_absolute_error\n",
    "acc = r2_score(ytest,ypred)"
   ]
  },
  {
   "cell_type": "code",
   "execution_count": 45,
   "id": "0fa39e98",
   "metadata": {},
   "outputs": [
    {
     "data": {
      "text/plain": [
       "1.0"
      ]
     },
     "execution_count": 45,
     "metadata": {},
     "output_type": "execute_result"
    }
   ],
   "source": [
    "acc"
   ]
  },
  {
   "cell_type": "markdown",
   "id": "8bb51d1e",
   "metadata": {},
   "source": [
    "# Decision Tree Analysis"
   ]
  },
  {
   "cell_type": "code",
   "execution_count": 46,
   "id": "97c170ac",
   "metadata": {},
   "outputs": [
    {
     "data": {
      "text/plain": [
       "DecisionTreeRegressor(random_state=55)"
      ]
     },
     "execution_count": 46,
     "metadata": {},
     "output_type": "execute_result"
    }
   ],
   "source": [
    "from sklearn.tree import DecisionTreeRegressor\n",
    "dt = DecisionTreeRegressor(random_state = 55)\n",
    "dt.fit(xtrain,ytrain)"
   ]
  },
  {
   "cell_type": "code",
   "execution_count": 47,
   "id": "95e4aa77",
   "metadata": {},
   "outputs": [],
   "source": [
    "ypre = dt.predict(xtest)"
   ]
  },
  {
   "cell_type": "code",
   "execution_count": 48,
   "id": "de4e2bdc",
   "metadata": {},
   "outputs": [
    {
     "data": {
      "text/plain": [
       "0.9977394877947082"
      ]
     },
     "execution_count": 48,
     "metadata": {},
     "output_type": "execute_result"
    }
   ],
   "source": [
    "acc = r2_score(ytest,ypre)\n",
    "acc"
   ]
  },
  {
   "cell_type": "code",
   "execution_count": 49,
   "id": "1964cedd",
   "metadata": {},
   "outputs": [
    {
     "data": {
      "text/plain": [
       "0.002709943841533087"
      ]
     },
     "execution_count": 49,
     "metadata": {},
     "output_type": "execute_result"
    }
   ],
   "source": [
    "mse = mean_squared_error(ytest,ypre)\n",
    "mse"
   ]
  },
  {
   "cell_type": "code",
   "execution_count": 50,
   "id": "10e4e667",
   "metadata": {},
   "outputs": [
    {
     "data": {
      "text/plain": [
       "0.015327939511509401"
      ]
     },
     "execution_count": 50,
     "metadata": {},
     "output_type": "execute_result"
    }
   ],
   "source": [
    "mae = mean_absolute_error(ytest,ypre)\n",
    "mae"
   ]
  },
  {
   "cell_type": "code",
   "execution_count": 51,
   "id": "8db9e31d",
   "metadata": {},
   "outputs": [],
   "source": [
    "import pickle\n",
    "pickle.dump(dt,open(\"mang.pkl\",\"wb\"))"
   ]
  },
  {
   "cell_type": "code",
   "execution_count": 52,
   "id": "faf02c64",
   "metadata": {},
   "outputs": [],
   "source": [
    "n_estimators = [10,30,90,100]\n",
    "max_features = [0.2,0.6,1.0]\n",
    "max_depth = [2,8,None]\n",
    "max_samples = [0.5,0.75,1.0]"
   ]
  },
  {
   "cell_type": "code",
   "execution_count": 53,
   "id": "e67c07ed",
   "metadata": {},
   "outputs": [
    {
     "name": "stdout",
     "output_type": "stream",
     "text": [
      "{'n_estimators': [10, 30, 90, 100], 'max_features': [0.2, 0.6, 1.0], 'max_depth': [2, 8, None], 'max_samples': [0.5, 0.75, 1.0]}\n"
     ]
    }
   ],
   "source": [
    "pram_grid = {'n_estimators' : n_estimators,'max_features' : max_features,'max_depth' : max_depth,'max_samples': max_samples}\n",
    "print(pram_grid)"
   ]
  },
  {
   "cell_type": "code",
   "execution_count": 54,
   "id": "3879f89c",
   "metadata": {},
   "outputs": [
    {
     "name": "stdout",
     "output_type": "stream",
     "text": [
      "Fitting 5 folds for each of 108 candidates, totalling 540 fits\n"
     ]
    },
    {
     "name": "stderr",
     "output_type": "stream",
     "text": [
      "C:\\Users\\DELL\\anaconda3\\lib\\site-packages\\sklearn\\model_selection\\_search.py:926: DataConversionWarning: A column-vector y was passed when a 1d array was expected. Please change the shape of y to (n_samples,), for example using ravel().\n",
      "  self.best_estimator_.fit(X, y, **fit_params)\n"
     ]
    },
    {
     "data": {
      "text/plain": [
       "GridSearchCV(cv=5, estimator=RandomForestRegressor(), n_jobs=-1,\n",
       "             param_grid={'max_depth': [2, 8, None],\n",
       "                         'max_features': [0.2, 0.6, 1.0],\n",
       "                         'max_samples': [0.5, 0.75, 1.0],\n",
       "                         'n_estimators': [10, 30, 90, 100]},\n",
       "             verbose=2)"
      ]
     },
     "execution_count": 54,
     "metadata": {},
     "output_type": "execute_result"
    }
   ],
   "source": [
    "from sklearn.model_selection import GridSearchCV\n",
    "from sklearn.model_selection import RandomizedSearchCV\n",
    "from sklearn.ensemble import RandomForestRegressor\n",
    "rf= RandomForestRegressor()\n",
    "rf_grid = GridSearchCV(estimator = rf,param_grid =pram_grid,cv = 5,verbose=2,n_jobs = -1)\n",
    "rf_grid.fit(xtrain,ytrain)"
   ]
  },
  {
   "cell_type": "code",
   "execution_count": 55,
   "id": "bbb724b6",
   "metadata": {},
   "outputs": [],
   "source": [
    "yp= rf_grid.predict(xtest)"
   ]
  },
  {
   "cell_type": "code",
   "execution_count": 56,
   "id": "90089d0e",
   "metadata": {},
   "outputs": [
    {
     "data": {
      "text/plain": [
       "0.999368753942651"
      ]
     },
     "execution_count": 56,
     "metadata": {},
     "output_type": "execute_result"
    }
   ],
   "source": [
    "acc = r2_score(ytest,yp)\n",
    "acc"
   ]
  },
  {
   "cell_type": "code",
   "execution_count": null,
   "id": "99902ff6",
   "metadata": {},
   "outputs": [],
   "source": []
  }
 ],
 "metadata": {
  "kernelspec": {
   "display_name": "Python 3 (ipykernel)",
   "language": "python",
   "name": "python3"
  },
  "language_info": {
   "codemirror_mode": {
    "name": "ipython",
    "version": 3
   },
   "file_extension": ".py",
   "mimetype": "text/x-python",
   "name": "python",
   "nbconvert_exporter": "python",
   "pygments_lexer": "ipython3",
   "version": "3.11.3"
  }
 },
 "nbformat": 4,
 "nbformat_minor": 5
}
